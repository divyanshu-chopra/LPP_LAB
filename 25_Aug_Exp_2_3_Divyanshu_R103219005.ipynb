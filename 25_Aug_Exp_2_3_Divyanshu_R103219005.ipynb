{
  "nbformat": 4,
  "nbformat_minor": 0,
  "metadata": {
    "colab": {
      "name": "25_Aug_Exp_2_3_Divyanshu_R103219005.ipynb",
      "provenance": [],
      "authorship_tag": "ABX9TyM2qb7krbVd58vcn0j5zVEm",
      "include_colab_link": true
    },
    "kernelspec": {
      "name": "python3",
      "display_name": "Python 3"
    },
    "language_info": {
      "name": "python"
    }
  },
  "cells": [
    {
      "cell_type": "markdown",
      "metadata": {
        "id": "view-in-github",
        "colab_type": "text"
      },
      "source": [
        "<a href=\"https://colab.research.google.com/github/divyanshu-chopra/LPP_LAB/blob/main/25_Aug_Exp_2_3_Divyanshu_R103219005.ipynb\" target=\"_parent\"><img src=\"https://colab.research.google.com/assets/colab-badge.svg\" alt=\"Open In Colab\"/></a>"
      ]
    },
    {
      "cell_type": "markdown",
      "metadata": {
        "id": "Sh3fxIiHlyb4"
      },
      "source": [
        "# **OR LAB EXPERIMENT - 2,3**\n",
        "Divyanshu Chopra - 500075316 - R103219005 - CSE - BAO (5th Sem)"
      ]
    },
    {
      "cell_type": "markdown",
      "metadata": {
        "id": "yPpymiSylGMU"
      },
      "source": [
        "**Answer - 1:**"
      ]
    },
    {
      "cell_type": "code",
      "metadata": {
        "id": "91T3e3jKcLV-"
      },
      "source": [
        "from scipy.optimize import linprog"
      ],
      "execution_count": 1,
      "outputs": []
    },
    {
      "cell_type": "code",
      "metadata": {
        "colab": {
          "base_uri": "https://localhost:8080/"
        },
        "id": "aBcdI54xcSQV",
        "outputId": "084740ca-143d-4307-8dcc-cb5a29814381"
      },
      "source": [
        "obj = [-40 , -35]\n",
        "lhs_ineq = [[2,3] , [4,3] ]\n",
        "rhs_ineq = [60,96]\n",
        "bnd = [(0, float(\"inf\")), (0, float(\"inf\"))]\n",
        "opt = linprog(c=obj, A_ub=lhs_ineq, b_ub=rhs_ineq, bounds=bnd,method=\"revised simplex\")\n",
        "opt"
      ],
      "execution_count": 2,
      "outputs": [
        {
          "output_type": "execute_result",
          "data": {
            "text/plain": [
              "     con: array([], dtype=float64)\n",
              "     fun: -1000.0\n",
              " message: 'Optimization terminated successfully.'\n",
              "     nit: 2\n",
              "   slack: array([0., 0.])\n",
              "  status: 0\n",
              " success: True\n",
              "       x: array([18.,  8.])"
            ]
          },
          "metadata": {},
          "execution_count": 2
        }
      ]
    },
    {
      "cell_type": "markdown",
      "metadata": {
        "id": "1WqiHqxumttp"
      },
      "source": [
        "Firm can earn Maximum Profit = Rs. 1000 when A = 18 and B = 8 "
      ]
    },
    {
      "cell_type": "markdown",
      "metadata": {
        "id": "v6vMZ_FYlWth"
      },
      "source": [
        "**Answer - 2:**"
      ]
    },
    {
      "cell_type": "code",
      "metadata": {
        "colab": {
          "base_uri": "https://localhost:8080/"
        },
        "id": "e11EwCemdFVq",
        "outputId": "1cdce8e4-76a3-47bd-cd19-1ce82afbb3ce"
      },
      "source": [
        "obj = [40 , 24]\n",
        "lhs_ineq = [[-20,-50] , [-80,-50] ]\n",
        "rhs_ineq = [-4800,-7200]\n",
        "bnd = [(0, float(\"inf\")), (0, float(\"inf\"))]\n",
        "opt = linprog(c=obj, A_ub=lhs_ineq, b_ub=rhs_ineq, bounds=bnd,method=\"revised simplex\")\n",
        "opt"
      ],
      "execution_count": 3,
      "outputs": [
        {
          "output_type": "execute_result",
          "data": {
            "text/plain": [
              "     con: array([], dtype=float64)\n",
              "     fun: 3456.0\n",
              " message: 'Optimization terminated successfully.'\n",
              "     nit: 3\n",
              "   slack: array([2400.,    0.])\n",
              "  status: 0\n",
              " success: True\n",
              "       x: array([  0., 144.])"
            ]
          },
          "metadata": {},
          "execution_count": 3
        }
      ]
    },
    {
      "cell_type": "markdown",
      "metadata": {
        "id": "Tc7PXPeJnA9I"
      },
      "source": [
        "Cost is Minimum i.e. Rs. 3456.0 when Bags of Mixture A = 0 and Bags of Mixture B = 144"
      ]
    },
    {
      "cell_type": "markdown",
      "metadata": {
        "id": "TRY2WDuLlbqC"
      },
      "source": [
        "**Answer - 3:**"
      ]
    },
    {
      "cell_type": "code",
      "metadata": {
        "colab": {
          "base_uri": "https://localhost:8080/"
        },
        "id": "vvBV4aiCec14",
        "outputId": "9397cfa1-d005-480b-d0f0-42763cbaeeaa"
      },
      "source": [
        "obj = [-5 , -2]\n",
        "lhs_ineq = [[10,2] , [1,0.5]]\n",
        "rhs_ineq = [2100,600]\n",
        "bnd = [(0, float(\"inf\")), (800, float(\"inf\"))]\n",
        "opt = linprog(c=obj, A_ub=lhs_ineq, b_ub=rhs_ineq, bounds=bnd,method=\"revised simplex\")\n",
        "opt"
      ],
      "execution_count": 7,
      "outputs": [
        {
          "output_type": "execute_result",
          "data": {
            "text/plain": [
              "     con: array([], dtype=float64)\n",
              "     fun: -2100.0\n",
              " message: 'Optimization terminated successfully.'\n",
              "     nit: 2\n",
              "   slack: array([ 0., 75.])\n",
              "  status: 0\n",
              " success: True\n",
              "       x: array([   0., 1050.])"
            ]
          },
          "metadata": {},
          "execution_count": 7
        }
      ]
    },
    {
      "cell_type": "markdown",
      "metadata": {
        "id": "5zXxt6Twnyzz"
      },
      "source": [
        "Profit is Maximum i.e. Rs. 2100 when No. of Units of A = 0 and No. of B = 1050 per week "
      ]
    },
    {
      "cell_type": "markdown",
      "metadata": {
        "id": "LBwcfRLxli1e"
      },
      "source": [
        "**Answer - 4:**"
      ]
    },
    {
      "cell_type": "code",
      "metadata": {
        "colab": {
          "base_uri": "https://localhost:8080/"
        },
        "id": "uOZaWtuwfwfs",
        "outputId": "05f56abf-94a6-484b-e86f-60f23b1cad38"
      },
      "source": [
        "obj = [-60 , -40]\n",
        "lhs_ineq = [[2,1] ]\n",
        "rhs_ineq = [60]\n",
        "bnd = [(0, 25), (0, 35)]\n",
        "opt = linprog(c=obj, A_ub=lhs_ineq, b_ub=rhs_ineq, bounds=bnd,method=\"revised simplex\")\n",
        "opt"
      ],
      "execution_count": 8,
      "outputs": [
        {
          "output_type": "execute_result",
          "data": {
            "text/plain": [
              "     con: array([], dtype=float64)\n",
              "     fun: -2150.0\n",
              " message: 'Optimization terminated successfully.'\n",
              "     nit: 3\n",
              "   slack: array([0.])\n",
              "  status: 0\n",
              " success: True\n",
              "       x: array([12.5, 35. ])"
            ]
          },
          "metadata": {},
          "execution_count": 8
        }
      ]
    },
    {
      "cell_type": "markdown",
      "metadata": {
        "id": "sfzKB40qojpZ"
      },
      "source": [
        "Profit is Maximum i.e. Rs. 2150 when No. of Refridgerator = 12.5 and Ranges = 35"
      ]
    },
    {
      "cell_type": "markdown",
      "metadata": {
        "id": "OiJkOS_-lpG8"
      },
      "source": [
        "**Answer - 5:**"
      ]
    },
    {
      "cell_type": "code",
      "metadata": {
        "colab": {
          "base_uri": "https://localhost:8080/"
        },
        "id": "jdGn2hsHg0SH",
        "outputId": "f8b6a4b1-9f0f-4071-91f5-17608d2f5cfa"
      },
      "source": [
        "obj = [20 , 10]\n",
        "lhs_ineq = [[1,2] , [-3,-1], [-4,-3] ]\n",
        "rhs_ineq = [40,-30,-60]\n",
        "bnd = [(0, float(\"inf\")), (0, float(\"inf\"))]\n",
        "opt = linprog(c=obj, A_ub=lhs_ineq, b_ub=rhs_ineq, bounds=bnd,method=\"revised simplex\")\n",
        "opt"
      ],
      "execution_count": 13,
      "outputs": [
        {
          "output_type": "execute_result",
          "data": {
            "text/plain": [
              "     con: array([], dtype=float64)\n",
              "     fun: 240.0\n",
              " message: 'Optimization terminated successfully.'\n",
              "     nit: 2\n",
              "   slack: array([10.,  0.,  0.])\n",
              "  status: 0\n",
              " success: True\n",
              "       x: array([ 6., 12.])"
            ]
          },
          "metadata": {},
          "execution_count": 13
        }
      ]
    },
    {
      "cell_type": "markdown",
      "metadata": {
        "id": "F1G8D-h7o9cC"
      },
      "source": [
        "Z = 240 , X1 = 6 and X2 = 12"
      ]
    },
    {
      "cell_type": "markdown",
      "metadata": {
        "id": "ntKSCWuzltdS"
      },
      "source": [
        "**Answer - 6:**"
      ]
    },
    {
      "cell_type": "code",
      "metadata": {
        "colab": {
          "base_uri": "https://localhost:8080/"
        },
        "id": "6tEbhaxKjx9S",
        "outputId": "180da3d5-91bd-48c8-bfd5-78233c97df64"
      },
      "source": [
        "obj = [-1 , -1 , -3]\n",
        "lhs_ineq = [[3,2,1] , [2,1,2]]\n",
        "rhs_ineq = [300,200]\n",
        "bnd = [(0, float(\"inf\")), (0, float(\"inf\")), (0, float(\"inf\"))]\n",
        "opt = linprog(c=obj, A_ub=lhs_ineq, b_ub=rhs_ineq, bounds=bnd,method=\"revised simplex\")\n",
        "opt"
      ],
      "execution_count": 15,
      "outputs": [
        {
          "output_type": "execute_result",
          "data": {
            "text/plain": [
              "     con: array([], dtype=float64)\n",
              "     fun: -300.0\n",
              " message: 'Optimization terminated successfully.'\n",
              "     nit: 1\n",
              "   slack: array([200.,   0.])\n",
              "  status: 0\n",
              " success: True\n",
              "       x: array([  0.,   0., 100.])"
            ]
          },
          "metadata": {},
          "execution_count": 15
        }
      ]
    },
    {
      "cell_type": "markdown",
      "metadata": {
        "id": "UlEQFOCApEsv"
      },
      "source": [
        "Z = 300 , X1 = 0 , X2 = 0 , X3 = 100"
      ]
    }
  ]
}
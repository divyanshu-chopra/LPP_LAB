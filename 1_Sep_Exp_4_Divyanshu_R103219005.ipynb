{
  "nbformat": 4,
  "nbformat_minor": 0,
  "metadata": {
    "colab": {
      "name": "1_Sep_Exp_4_Divyanshu_R103219005.ipynb",
      "provenance": [],
      "collapsed_sections": [],
      "include_colab_link": true
    },
    "kernelspec": {
      "name": "python3",
      "display_name": "Python 3"
    },
    "language_info": {
      "name": "python"
    }
  },
  "cells": [
    {
      "cell_type": "markdown",
      "metadata": {
        "id": "view-in-github",
        "colab_type": "text"
      },
      "source": [
        "<a href=\"https://colab.research.google.com/github/divyanshu-chopra/LPP_LAB/blob/main/1_Sep_Exp_4_Divyanshu_R103219005.ipynb\" target=\"_parent\"><img src=\"https://colab.research.google.com/assets/colab-badge.svg\" alt=\"Open In Colab\"/></a>"
      ]
    },
    {
      "cell_type": "markdown",
      "metadata": {
        "id": "x3q2utmO1qSI"
      },
      "source": [
        "# **OR LAB Experiment - 4**\n",
        "Divyanshu Chopra - R103219005 - 500075316 - CSE - BAO (5th Sem)"
      ]
    },
    {
      "cell_type": "code",
      "metadata": {
        "id": "vqIHpRoUVZqk"
      },
      "source": [
        "import cvxpy as cp"
      ],
      "execution_count": 2,
      "outputs": []
    },
    {
      "cell_type": "markdown",
      "metadata": {
        "id": "iafBSql_b4Pq"
      },
      "source": [
        "# **Answer -1:**"
      ]
    },
    {
      "cell_type": "code",
      "metadata": {
        "colab": {
          "base_uri": "https://localhost:8080/"
        },
        "id": "jkYDiHtCWN2Y",
        "outputId": "c2ce4416-2069-42b3-bc0f-34f2983f4cfc"
      },
      "source": [
        "x1 = cp.Variable(integer = True)\n",
        "x2 = cp.Variable(integer = True)\n",
        "objective = cp.Maximize( 7*x1 + 10*x2 )\n",
        "constraints = [ -1*x1 + 3*x2 <= 6 , 7*x1 + x2 <= 35, x1>=0, x2>=0]\n",
        "prob = cp.Problem(objective,constraints)\n",
        "prob.solve()\n",
        "print(\"x1:\",x1.value)\n",
        "print(\"x2:\",x2.value)\n",
        "print(\"Obj:\",prob.value)"
      ],
      "execution_count": 3,
      "outputs": [
        {
          "output_type": "stream",
          "name": "stdout",
          "text": [
            "x1: 4.0\n",
            "x2: 3.0\n",
            "Obj: 58.0\n"
          ]
        }
      ]
    },
    {
      "cell_type": "markdown",
      "metadata": {
        "id": "U4swBBsubzyh"
      },
      "source": [
        "# **Answer - 2:**"
      ]
    },
    {
      "cell_type": "code",
      "metadata": {
        "colab": {
          "base_uri": "https://localhost:8080/"
        },
        "id": "BPi_oYlmbVab",
        "outputId": "4415e743-a934-4cfe-d61b-80a4ad0bc26b"
      },
      "source": [
        "x1 = cp.Variable(integer = True)\n",
        "x2 = cp.Variable(integer = True)\n",
        "objective = cp.Maximize( 5*x1 + 8*x2 )\n",
        "constraints = [ 1*x1 + 1*x2 <= 6 , 5*x1 + 9*x2 <= 45, x1>=0, x2>=0]\n",
        "prob = cp.Problem(objective,constraints)\n",
        "prob.solve()\n",
        "print(\"x1:\",x1.value)\n",
        "print(\"x2:\",x2.value)\n",
        "print(\"Obj:\",prob.value)"
      ],
      "execution_count": 4,
      "outputs": [
        {
          "output_type": "stream",
          "name": "stdout",
          "text": [
            "x1: 0.0\n",
            "x2: 5.0\n",
            "Obj: 40.0\n"
          ]
        }
      ]
    },
    {
      "cell_type": "markdown",
      "metadata": {
        "id": "_dBHrQVSaaLP"
      },
      "source": [
        "# **Answer - 3:**"
      ]
    },
    {
      "cell_type": "markdown",
      "metadata": {
        "id": "T78HgnjTqJao"
      },
      "source": [
        "**Machine Setup 1**"
      ]
    },
    {
      "cell_type": "code",
      "metadata": {
        "colab": {
          "base_uri": "https://localhost:8080/"
        },
        "id": "6n7qIzSDqCCA",
        "outputId": "d6d0b621-5af6-414e-cd04-b20fb4b9d7ed"
      },
      "source": [
        "x1 = cp.Variable(integer = True)\n",
        "x2 = cp.Variable(integer = True)\n",
        "objective = cp.Maximize( 10*x1 + 12*x2 )\n",
        "constraints = [ x1 + x2 <= 35 , x1<=20, x2<=10]\n",
        "prob = cp.Problem(objective,constraints)\n",
        "prob.solve()\n",
        "print(\"x1:\",x1.value)\n",
        "print(\"x2:\",x2.value)\n",
        "print(\"Obj:\",prob.value)"
      ],
      "execution_count": 8,
      "outputs": [
        {
          "output_type": "stream",
          "name": "stdout",
          "text": [
            "x1: 20.0\n",
            "x2: 10.0\n",
            "Obj: 320.0\n"
          ]
        }
      ]
    },
    {
      "cell_type": "markdown",
      "metadata": {
        "id": "2GOoWAtQqNXg"
      },
      "source": [
        "**Machine Setup 2**"
      ]
    },
    {
      "cell_type": "code",
      "metadata": {
        "id": "wQb1OLBBaZc_",
        "colab": {
          "base_uri": "https://localhost:8080/"
        },
        "outputId": "b0c74487-08e1-4d44-9ee1-0551c819f11d"
      },
      "source": [
        "x1 = cp.Variable(integer = True)\n",
        "x2 = cp.Variable(integer = True)\n",
        "objective = cp.Maximize( 10*x1 + 12*x2 )\n",
        "constraints = [ x1 + x2 <= 35 , x1<=12, x2<=25]\n",
        "prob = cp.Problem(objective,constraints)\n",
        "prob.solve()\n",
        "print(\"x1:\",x1.value)\n",
        "print(\"x2:\",x2.value)\n",
        "print(\"Obj:\",prob.value)"
      ],
      "execution_count": 7,
      "outputs": [
        {
          "output_type": "stream",
          "name": "stdout",
          "text": [
            "x1: 10.0\n",
            "x2: 25.0\n",
            "Obj: 400.0\n"
          ]
        }
      ]
    },
    {
      "cell_type": "markdown",
      "metadata": {
        "id": "5JMmTR37qyu9"
      },
      "source": [
        "Machine Setup 2 should be selected as it is giving Max Profit of 400."
      ]
    }
  ]
}
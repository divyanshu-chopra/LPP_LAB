{
  "nbformat": 4,
  "nbformat_minor": 0,
  "metadata": {
    "colab": {
      "name": "1_Sep_Exp_4_Divyanshu_R103219005.ipynb",
      "provenance": [],
      "collapsed_sections": [],
      "authorship_tag": "ABX9TyOgq1ilcp31NFmn4b84zxrj",
      "include_colab_link": true
    },
    "kernelspec": {
      "name": "python3",
      "display_name": "Python 3"
    },
    "language_info": {
      "name": "python"
    }
  },
  "cells": [
    {
      "cell_type": "markdown",
      "metadata": {
        "id": "view-in-github",
        "colab_type": "text"
      },
      "source": [
        "<a href=\"https://colab.research.google.com/github/divyanshu-chopra/LPP_LAB/blob/main/1_Sep_Exp_4_Divyanshu_R103219005.ipynb\" target=\"_parent\"><img src=\"https://colab.research.google.com/assets/colab-badge.svg\" alt=\"Open In Colab\"/></a>"
      ]
    },
    {
      "cell_type": "markdown",
      "metadata": {
        "id": "x3q2utmO1qSI"
      },
      "source": [
        "# **OR LAB Experiment - 4**\n",
        "Divyanshu Chopra - R103219005 - 500075316 - CSE - BAO (5th Sem)"
      ]
    },
    {
      "cell_type": "code",
      "metadata": {
        "id": "vqIHpRoUVZqk"
      },
      "source": [
        "import cvxpy as cp"
      ],
      "execution_count": null,
      "outputs": []
    },
    {
      "cell_type": "markdown",
      "metadata": {
        "id": "iafBSql_b4Pq"
      },
      "source": [
        "# **Answer -1:**"
      ]
    },
    {
      "cell_type": "code",
      "metadata": {
        "colab": {
          "base_uri": "https://localhost:8080/"
        },
        "id": "jkYDiHtCWN2Y",
        "outputId": "177e803e-b7af-4311-dbe3-3678a5c22e13"
      },
      "source": [
        "x1 = cp.Variable()\n",
        "x2 = cp.Variable()\n",
        "objective = cp.Maximize( 7*x1 + 10*x2 )\n",
        "constraints = [ -1*x1 + 3*x2 <= 6 , 7*x1 + x2 <= 35]\n",
        "prob = cp.Problem(objective,constraints)\n",
        "prob.solve()"
      ],
      "execution_count": null,
      "outputs": [
        {
          "output_type": "execute_result",
          "data": {
            "text/plain": [
              "66.49999997691361"
            ]
          },
          "metadata": {},
          "execution_count": 13
        }
      ]
    },
    {
      "cell_type": "markdown",
      "metadata": {
        "id": "U4swBBsubzyh"
      },
      "source": [
        "# **Answer - 2:**"
      ]
    },
    {
      "cell_type": "code",
      "metadata": {
        "colab": {
          "base_uri": "https://localhost:8080/"
        },
        "id": "BPi_oYlmbVab",
        "outputId": "030b2f44-ddb4-495d-d8de-31c0c897621e"
      },
      "source": [
        "x1 = cp.Variable()\n",
        "x2 = cp.Variable()\n",
        "objective = cp.Maximize( 5*x1 + 8*x2 )\n",
        "constraints = [ 1*x1 + 1*x2 <= 6 , 5*x1 + 9*x2 <= 45]\n",
        "prob = cp.Problem(objective,constraints)\n",
        "prob.solve()"
      ],
      "execution_count": null,
      "outputs": [
        {
          "output_type": "execute_result",
          "data": {
            "text/plain": [
              "41.25000000018229"
            ]
          },
          "metadata": {},
          "execution_count": 14
        }
      ]
    }
  ]
}
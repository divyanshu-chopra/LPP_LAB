{
  "nbformat": 4,
  "nbformat_minor": 0,
  "metadata": {
    "colab": {
      "name": "15_Sep_Exp-5_Divyanshu_Chopra_R103219005.ipynb",
      "provenance": [],
      "authorship_tag": "ABX9TyOiwLUUDd/SVokREqyWzgPE",
      "include_colab_link": true
    },
    "kernelspec": {
      "name": "python3",
      "display_name": "Python 3"
    },
    "language_info": {
      "name": "python"
    }
  },
  "cells": [
    {
      "cell_type": "markdown",
      "metadata": {
        "id": "view-in-github",
        "colab_type": "text"
      },
      "source": [
        "<a href=\"https://colab.research.google.com/github/divyanshu-chopra/LPP_LAB/blob/main/15_Sep_Exp_5_Divyanshu_Chopra_R103219005.ipynb\" target=\"_parent\"><img src=\"https://colab.research.google.com/assets/colab-badge.svg\" alt=\"Open In Colab\"/></a>"
      ]
    },
    {
      "cell_type": "markdown",
      "metadata": {
        "id": "W1JKezhte6zv"
      },
      "source": [
        "# **Divyanshu Chopra - R103219005 - 500075316 - BAO(5th Sem)**"
      ]
    },
    {
      "cell_type": "markdown",
      "metadata": {
        "id": "57OYw70VWoAI"
      },
      "source": [
        "# **Linear Programming Problem using SciPy Library**"
      ]
    },
    {
      "cell_type": "markdown",
      "metadata": {
        "id": "qdd0dJmeW0c9"
      },
      "source": [
        "**Ques**. 1 -> Maximize Z = 3X1 + 2X2 + 3X3 \\\n",
        "           Subject to\\\n",
        "           2X1 + X2 + X3 = 2\\\n",
        "           X1 + 3X2 + X3 = 6\\\n",
        "           3X1 + 4X2 + 2X3 = 8\\\n",
        "           X1, X2, X3 >= 0 "
      ]
    },
    {
      "cell_type": "code",
      "metadata": {
        "id": "VDGPMRxdVw5x"
      },
      "source": [
        "from scipy.optimize import linprog\n",
        "import time"
      ],
      "execution_count": 8,
      "outputs": []
    },
    {
      "cell_type": "code",
      "metadata": {
        "colab": {
          "base_uri": "https://localhost:8080/"
        },
        "id": "RDGWcjzeYpBI",
        "outputId": "1ed88105-849a-4a82-c751-8a2787a36d66"
      },
      "source": [
        "c = [-3, -2, -3]\n",
        "A = [[2, 1, 1], [1, 3, 1], [3, 4, 2]]\n",
        "b = [2, 6, 8]\n",
        "x1_bound = (0, None)\n",
        "x2_bound = (0, None)\n",
        "x3_bound = (0, None)\n",
        "res = linprog(c, A_eq= A, b_eq = b, bounds=[x1_bound, x2_bound, x3_bound], method = \"simplex\")\n",
        "print(res)"
      ],
      "execution_count": 14,
      "outputs": [
        {
          "output_type": "stream",
          "name": "stdout",
          "text": [
            "     con: array([0., 0., 0.])\n",
            "     fun: -4.0\n",
            " message: 'Optimization terminated successfully.'\n",
            "     nit: 3\n",
            "   slack: array([], dtype=float64)\n",
            "  status: 0\n",
            " success: True\n",
            "       x: array([0., 2., 0.])\n"
          ]
        },
        {
          "output_type": "stream",
          "name": "stderr",
          "text": [
            "/usr/local/lib/python3.7/dist-packages/ipykernel_launcher.py:7: OptimizeWarning: A_eq does not appear to be of full row rank. To improve performance, check the problem formulation for redundant equality constraints.\n",
            "  import sys\n"
          ]
        }
      ]
    },
    {
      "cell_type": "markdown",
      "metadata": {
        "id": "RabVlMBhbkW3"
      },
      "source": [
        "Ques. 2 -> Minimize Z = 3X1 - 4X2 + 3X3\\\n",
        "           Subject to\\\n",
        "           5X1 + 6X2 + 2X3 <= 5\\\n",
        "           -X1 + 3X2 + 5X3 >= 8\\\n",
        "           2X1 + 5X2 - 4X3 <= 4\\\n",
        "           X1, X2, X3 >= 0"
      ]
    },
    {
      "cell_type": "code",
      "metadata": {
        "colab": {
          "base_uri": "https://localhost:8080/"
        },
        "id": "aJcbdGLCcOgt",
        "outputId": "9c5a2f34-232a-425c-cd83-7a1758718f29"
      },
      "source": [
        "c = [3, -4, 3]\n",
        "A = [[5, 6, 2], [1, -3, -5], [2, 5, -4]]\n",
        "b = [5, -8, 4]\n",
        "x1_bound = (0, None)\n",
        "x2_bound = (0, None)\n",
        "x3_bound = (0, None)\n",
        "res = linprog(c,  A,  b, bounds=[x1_bound, x2_bound, x3_bound], method = \"simplex\")\n",
        "print(res)"
      ],
      "execution_count": 13,
      "outputs": [
        {
          "output_type": "stream",
          "name": "stdout",
          "text": [
            "     con: array([], dtype=float64)\n",
            "     fun: 2.624999999999999\n",
            " message: 'Optimization terminated successfully.'\n",
            "     nit: 3\n",
            "   slack: array([ 0.0000000e+00, -8.8817842e-16,  7.6250000e+00])\n",
            "  status: 0\n",
            " success: True\n",
            "       x: array([0.   , 0.375, 1.375])\n"
          ]
        }
      ]
    },
    {
      "cell_type": "markdown",
      "metadata": {
        "id": "gljXAJw7dyZ_"
      },
      "source": [
        "Ques. 3 -> Maximize Z = 2X1 + 4X2 + 4X3 - 3X4\\\n",
        "           Subject to\\\n",
        "           X1 + X2 + X3 = 4\\\n",
        "           X1 + 4X2 + X4 = 8\\\n",
        "           3X1 + 4X2 + 2X3 = 8\\\n",
        "           X1, X2, X3, X4 >= 0"
      ]
    },
    {
      "cell_type": "code",
      "metadata": {
        "colab": {
          "base_uri": "https://localhost:8080/"
        },
        "id": "s0xchiQ8ea1E",
        "outputId": "b5131a4a-54b7-4563-f130-ce2538bc9246"
      },
      "source": [
        "c = [-2, -4, -4, 3]\n",
        "A = [[1, 1, 1, 0], [1, 4, 0,1], [3 , 4, 2, 0]]\n",
        "b = [4, 8, 8]\n",
        "x1_bound = (0, None)\n",
        "x2_bound = (0, None)\n",
        "x3_bound = (0, None)\n",
        "x4_bound = (0, None)\n",
        "res = linprog(c, A_eq = A, b_eq= b, bounds=(x1_bound, x2_bound, x3_bound, x4_bound), method = \"simplex\")\n",
        "print(res)"
      ],
      "execution_count": 11,
      "outputs": [
        {
          "output_type": "stream",
          "name": "stdout",
          "text": [
            "     con: array([0., 0., 0.])\n",
            "     fun: 8.0\n",
            " message: 'Optimization terminated successfully.'\n",
            "     nit: 3\n",
            "   slack: array([], dtype=float64)\n",
            "  status: 0\n",
            " success: True\n",
            "       x: array([0., 0., 4., 8.])\n"
          ]
        }
      ]
    }
  ]
}
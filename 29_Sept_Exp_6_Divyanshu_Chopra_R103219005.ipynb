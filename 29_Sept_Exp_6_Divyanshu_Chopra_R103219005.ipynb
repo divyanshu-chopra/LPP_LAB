{
  "nbformat": 4,
  "nbformat_minor": 0,
  "metadata": {
    "colab": {
      "name": "29_Sept_Exp-6_Divyanshu_Chopra_R103219005.ipynb",
      "provenance": [],
      "authorship_tag": "ABX9TyNu5aH0FQyYXoeBJkgAzy+h",
      "include_colab_link": true
    },
    "kernelspec": {
      "name": "python3",
      "display_name": "Python 3"
    },
    "language_info": {
      "name": "python"
    }
  },
  "cells": [
    {
      "cell_type": "markdown",
      "metadata": {
        "id": "view-in-github",
        "colab_type": "text"
      },
      "source": [
        "<a href=\"https://colab.research.google.com/github/divyanshu-chopra/Operation_Research_And_Optimization_Lab/blob/main/29_Sept_Exp_6_Divyanshu_Chopra_R103219005.ipynb\" target=\"_parent\"><img src=\"https://colab.research.google.com/assets/colab-badge.svg\" alt=\"Open In Colab\"/></a>"
      ]
    },
    {
      "cell_type": "markdown",
      "metadata": {
        "id": "27OGqMyaShx7"
      },
      "source": [
        "\n",
        "# **Divyanshu Chopra - R103219005 - 500075316 - BAO(5th Sem)**"
      ]
    },
    {
      "cell_type": "markdown",
      "metadata": {
        "id": "jShG6BUbSlcR"
      },
      "source": [
        "# **EXP - 6**"
      ]
    },
    {
      "cell_type": "markdown",
      "metadata": {
        "id": "X1C04Uu_Sqal"
      },
      "source": [
        "### ***Ans. 1 -***"
      ]
    },
    {
      "cell_type": "code",
      "metadata": {
        "id": "JXoD-xndVT6j"
      },
      "source": [
        "from scipy.optimize import linprog"
      ],
      "execution_count": 1,
      "outputs": []
    },
    {
      "cell_type": "code",
      "metadata": {
        "colab": {
          "base_uri": "https://localhost:8080/"
        },
        "id": "9CcVns9pSdUL",
        "outputId": "f89823ce-3739-4ae2-e8e1-480b47093feb"
      },
      "source": [
        "c = [-40 ,-50]\n",
        "A = [[ 3, 4],[1, 1],[0, 1]]\n",
        "b = [180, 50, 40]\n",
        "bnd = [(0, float(\"inf\")), (0, float(\"inf\"))]\n",
        "opt = linprog(c, A_ub=A, b_ub=b, bounds=bnd, method=\"revised simplex\")\n",
        "opt"
      ],
      "execution_count": 2,
      "outputs": [
        {
          "output_type": "execute_result",
          "data": {
            "text/plain": [
              "     con: array([], dtype=float64)\n",
              "     fun: -2300.0\n",
              " message: 'Optimization terminated successfully.'\n",
              "     nit: 3\n",
              "   slack: array([ 0.,  0., 10.])\n",
              "  status: 0\n",
              " success: True\n",
              "       x: array([20., 30.])"
            ]
          },
          "metadata": {},
          "execution_count": 2
        }
      ]
    },
    {
      "cell_type": "markdown",
      "metadata": {
        "id": "BlZELf1UVgdB"
      },
      "source": [
        "### ***Ans. 2-***"
      ]
    },
    {
      "cell_type": "code",
      "metadata": {
        "colab": {
          "base_uri": "https://localhost:8080/"
        },
        "id": "6lA1JF54Vf91",
        "outputId": "f44c74b7-cce5-4872-c692-6e4d3f1b6e23"
      },
      "source": [
        "c = [5, 4, 3, 7, 6, 5, -5000]\n",
        "lhs_ineq = [[-1, 0, 0, -1, 0, 0, 0],[-1, -1, 0, -1, -1, 0, 0]]\n",
        "rhs_ineq = [-1000, -4000]\n",
        "lhs_eq = [[1, 1, 1, 1, 1, 1, 0],[0, 0, 0, 0, 0, 0, 1]]\n",
        "rhs_eq = [6000, 1]\n",
        "bnd = [(0, 1500), (0, 1500), (0, 1500), (0,750), (0,750), (0,750), (1,1)]\n",
        "opt = linprog(c,A_eq=lhs_eq, b_eq=rhs_eq, A_ub=lhs_ineq, b_ub=rhs_ineq, bounds=bnd, method=\"revised simplex\")\n",
        "opt"
      ],
      "execution_count": 3,
      "outputs": [
        {
          "output_type": "execute_result",
          "data": {
            "text/plain": [
              "     con: array([0., 0.])\n",
              "     fun: 21750.0\n",
              " message: 'Optimization terminated successfully.'\n",
              "     nit: 7\n",
              "   slack: array([750.,   0.])\n",
              "  status: 0\n",
              " success: True\n",
              "       x: array([1.5e+03, 1.5e+03, 1.5e+03, 2.5e+02, 7.5e+02, 5.0e+02, 1.0e+00])"
            ]
          },
          "metadata": {},
          "execution_count": 3
        }
      ]
    },
    {
      "cell_type": "markdown",
      "metadata": {
        "id": "3BmaXQRWV_IJ"
      },
      "source": [
        "### ***Ans. 3-***"
      ]
    },
    {
      "cell_type": "code",
      "metadata": {
        "colab": {
          "base_uri": "https://localhost:8080/"
        },
        "id": "Dm0ZNuAEWGuN",
        "outputId": "3beb848a-6bf2-4b49-c265-c1ca6330d389"
      },
      "source": [
        "c = [-4, -3]\n",
        "A = [[2, 1],[1, 1]]\n",
        "b = [1000, 800]\n",
        "bnd = [(0, 400), (0, 700)]\n",
        "opt = linprog(c, A_ub=A, b_ub=b, bounds=bnd, method=\"revised simplex\")\n",
        "opt"
      ],
      "execution_count": 4,
      "outputs": [
        {
          "output_type": "execute_result",
          "data": {
            "text/plain": [
              "     con: array([], dtype=float64)\n",
              "     fun: -2600.0\n",
              " message: 'Optimization terminated successfully.'\n",
              "     nit: 3\n",
              "   slack: array([0., 0.])\n",
              "  status: 0\n",
              " success: True\n",
              "       x: array([200., 600.])"
            ]
          },
          "metadata": {},
          "execution_count": 4
        }
      ]
    }
  ]
}